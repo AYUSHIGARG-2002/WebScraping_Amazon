{
 "cells": [
  {
   "cell_type": "code",
   "execution_count": null,
   "id": "b8c40ac2",
   "metadata": {},
   "outputs": [],
   "source": [
    "import csv\n",
    "import requests\n",
    "from bs4 import BeautifulSoup\n",
    "\n",
    "url = 'https://www.amazon.in/s?rh=n%3A6612025031&fs=true&ref=lp_6612025031_sar'\n",
    "\n",
    "# Send a GET request to the URL\n",
    "response = requests.get(url)\n",
    "\n",
    "# Create a BeautifulSoup object\n",
    "soup = BeautifulSoup(response.content, 'html.parser')\n",
    "\n",
    "# Find all the product containers\n",
    "product_containers = soup.find_all('div', {'data-component-type': 's-search-result'})\n",
    "\n",
    "# Create a CSV file and write the headers\n",
    "csv_file = open('amazon_products.csv', 'w', newline='', encoding='utf-8')\n",
    "csv_writer = csv.writer(csv_file)\n",
    "csv_writer.writerow(['Product Name', 'Price', 'Rating', 'Seller Name'])\n",
    "\n",
    "# Iterate over the product containers and extract the required details\n",
    "for container in product_containers:\n",
    "    # Extract product name\n",
    "    product_name_element = container.find('span', {'class': 'a-size-medium a-color-base a-text-normal'})\n",
    "    product_name = product_name_element.text.strip() if product_name_element else ''\n",
    "\n",
    "    # Extract price\n",
    "    price_element = container.find('span', {'class': 'a-price-whole'})\n",
    "    price = price_element.text.strip() if price_element else ''\n",
    "\n",
    "    # Extract rating\n",
    "    rating_element = container.find('span', {'class': 'a-icon-alt'})\n",
    "    rating = rating_element.text.strip().split(' ')[0] if rating_element else ''\n",
    "\n",
    "    # Extract seller name\n",
    "    seller_name_element = container.find('span', {'class': 'a-size-base'})\n",
    "    seller_name = seller_name_element.text.strip() if seller_name_element else ''\n",
    "\n",
    "    # Check if the product is out of stock\n",
    "    out_of_stock_element = container.find('span', {'class': 'a-color-price'})\n",
    "    if out_of_stock_element and 'currently unavailable' in out_of_stock_element.text.lower():\n",
    "        seller_name = 'Out of Stock'\n",
    "\n",
    "    # Write the details to the CSV file\n",
    "    csv_writer.writerow([product_name, price, rating, seller_name])\n",
    "\n",
    "# Close the CSV file\n",
    "csv_file.close()\n",
    "\n",
    "print(\"Scraping completed. The product details have been saved to 'amazon_products.csv'.\")\n"
   ]
  }
 ],
 "metadata": {
  "kernelspec": {
   "display_name": "Python 3 (ipykernel)",
   "language": "python",
   "name": "python3"
  },
  "language_info": {
   "codemirror_mode": {
    "name": "ipython",
    "version": 3
   },
   "file_extension": ".py",
   "mimetype": "text/x-python",
   "name": "python",
   "nbconvert_exporter": "python",
   "pygments_lexer": "ipython3",
   "version": "3.10.9"
  }
 },
 "nbformat": 4,
 "nbformat_minor": 5
}
